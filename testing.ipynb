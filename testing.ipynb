{
 "cells": [
  {
   "cell_type": "code",
   "execution_count": 179,
   "metadata": {},
   "outputs": [],
   "source": [
    "import praw\n",
    "import pandas as pd\n",
    "from config import client_id,client_secret,user_agent,password,username"
   ]
  },
  {
   "cell_type": "code",
   "execution_count": 125,
   "metadata": {},
   "outputs": [],
   "source": [
    "reddit = praw.Reddit(\n",
    "    client_id=client_id,\n",
    "    client_secret=client_secret,\n",
    "    user_agent=user_agent,\n",
    "    password=password,\n",
    "    \n",
    "    username=username,\n",
    ")"
   ]
  },
  {
   "cell_type": "code",
   "execution_count": 171,
   "metadata": {},
   "outputs": [
    {
     "name": "stdout",
     "output_type": "stream",
     "text": [
      "752\n"
     ]
    }
   ],
   "source": [
    "submission = reddit.submission(id='1365zfw')\n",
    "\n",
    "comment_list = submission.comments.list()\n",
    "\n",
    "print(len(comment_list))"
   ]
  },
  {
   "cell_type": "code",
   "execution_count": 209,
   "metadata": {},
   "outputs": [],
   "source": [
    "def get_comments_df(url, keywords=None, sort=None, ascending=False):\n",
    "\n",
    "    comment_data=[]\n",
    "\n",
    "    submission = reddit.submission(url=url)\n",
    "\n",
    "    if sort:\n",
    "        submission.comment_sort = sort\n",
    "\n",
    "    submission.comments.replace_more(limit=0)\n",
    "    \n",
    "    for comment in submission.comments.list():\n",
    "        comment_data.append([comment.body, comment.score, comment.created_utc])\n",
    "\n",
    "    df = pd.DataFrame(comment_data, columns=['body', 'score', 'utc_code'])\n",
    "    df['body'] = df['body'].str.strip().replace('\\n', ' ')\n",
    "\n",
    "    if keywords:\n",
    "        df = df[df['body'].str.contains('|'.join(keywords), case=False)]\n",
    "\n",
    "    df_sorted = df.sort_values('score', ascending=ascending).reset_index(drop=True)\n",
    "\n",
    "    return(df_sorted)\n"
   ]
  },
  {
   "cell_type": "code",
   "execution_count": 194,
   "metadata": {},
   "outputs": [],
   "source": [
    "url = 'https://www.reddit.com/r/nba/comments/1365zfw/game_thread_los_angeles_lakers_00_golden_state/?sort=controversial&limit=500'\n",
    "keywords = ['lebron']"
   ]
  },
  {
   "cell_type": "code",
   "execution_count": 210,
   "metadata": {},
   "outputs": [
    {
     "name": "stdout",
     "output_type": "stream",
     "text": [
      "                                                body  score      utc_code\n",
      "0  This Lakers team with 2016 LeBron would be ext...      9  1.683083e+09\n",
      "1  This series is EXACTLY as advertised. Love y’a...     10  1.683084e+09\n",
      "2  feels like LeBron's caused around 4-5 TOs alre...     10  1.683083e+09\n",
      "3  Bad game from LeBron, needs to stop shooting 3...     11  1.683089e+09\n",
      "4        Just won the lebron feel out game feelsgood     12  1.683089e+09 \n",
      " length of query: 26\n"
     ]
    }
   ],
   "source": [
    "df = get_comments_df(url, sort = 'top', ascending=True, keywords=keywords)\n",
    "print(df.head(),'\\n', f\"length of query: {len(df)}\")"
   ]
  }
 ],
 "metadata": {
  "kernelspec": {
   "display_name": "stat",
   "language": "python",
   "name": "python3"
  },
  "language_info": {
   "codemirror_mode": {
    "name": "ipython",
    "version": 3
   },
   "file_extension": ".py",
   "mimetype": "text/x-python",
   "name": "python",
   "nbconvert_exporter": "python",
   "pygments_lexer": "ipython3",
   "version": "3.9.16"
  },
  "orig_nbformat": 4
 },
 "nbformat": 4,
 "nbformat_minor": 2
}
