{
 "cells": [
  {
   "cell_type": "code",
   "execution_count": 22,
   "metadata": {},
   "outputs": [],
   "source": [
    "import multiprocessing\n",
    "import time\n",
    "from task import task"
   ]
  },
  {
   "cell_type": "code",
   "execution_count": 25,
   "metadata": {},
   "outputs": [],
   "source": [
    "def main():\n",
    "    start_time = time.perf_counter()\n",
    "    processes = []\n",
    " \n",
    "    # Creates 10 processes then starts them\n",
    "    for i in range(10):\n",
    "        p = multiprocessing.Process(target = task, args = (i,i+1))\n",
    "        p.start()\n",
    "        processes.append(p)\n",
    "    \n",
    "    # Joins all the processes \n",
    "    for p in processes:\n",
    "        p.join()\n",
    " \n",
    "    finish_time = time.perf_counter()\n",
    " \n",
    "    print(f\"Program finished in {finish_time-start_time} seconds\")"
   ]
  },
  {
   "cell_type": "code",
   "execution_count": 26,
   "metadata": {},
   "outputs": [
    {
     "name": "stdout",
     "output_type": "stream",
     "text": [
      "Sleeping for 0.5 seconds\n",
      "9\n",
      "Sleeping for 0.5 seconds\n",
      "5\n",
      "Sleeping for 0.5 seconds\n",
      "1\n",
      "Sleeping for 0.5 seconds\n",
      "11\n",
      "Sleeping for 0.5 seconds\n",
      "17\n",
      "Sleeping for 0.5 secondsSleeping for 0.5 seconds\n",
      "3\n",
      "\n",
      "7\n",
      "Sleeping for 0.5 seconds\n",
      "13\n",
      "Sleeping for 0.5 seconds\n",
      "15\n",
      "Sleeping for 0.5 seconds\n",
      "19\n",
      "Finished sleeping\n",
      "Finished sleeping\n",
      "Finished sleeping\n",
      "Finished sleeping\n",
      "Finished sleeping\n",
      "Finished sleeping\n",
      "Finished sleeping\n",
      "Finished sleeping\n",
      "Finished sleeping\n",
      "Finished sleeping\n",
      "Program finished in 0.9239884790003998 seconds\n"
     ]
    }
   ],
   "source": [
    "if __name__ == \"__main__\":\n",
    "    main()"
   ]
  },
  {
   "cell_type": "code",
   "execution_count": null,
   "metadata": {},
   "outputs": [],
   "source": []
  }
 ],
 "metadata": {
  "kernelspec": {
   "display_name": "nba-sentiment-plx5nsEQ-py3.9",
   "language": "python",
   "name": "python3"
  },
  "language_info": {
   "codemirror_mode": {
    "name": "ipython",
    "version": 3
   },
   "file_extension": ".py",
   "mimetype": "text/x-python",
   "name": "python",
   "nbconvert_exporter": "python",
   "pygments_lexer": "ipython3",
   "version": "3.9.16"
  },
  "orig_nbformat": 4
 },
 "nbformat": 4,
 "nbformat_minor": 2
}
