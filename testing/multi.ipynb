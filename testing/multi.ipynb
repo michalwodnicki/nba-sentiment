{
 "cells": [
  {
   "cell_type": "code",
   "execution_count": 1,
   "metadata": {},
   "outputs": [],
   "source": [
    "import multiprocessing\n",
    "import time\n",
    "from task import task"
   ]
  },
  {
   "cell_type": "code",
   "execution_count": 12,
   "metadata": {},
   "outputs": [],
   "source": [
    "def main():\n",
    "    start_time = time.perf_counter()\n",
    "    processes = []\n",
    "    results_queue = multiprocessing.Queue()\n",
    " \n",
    "    # Creates 10 processes then starts them\n",
    "    for i in range(10):\n",
    "        p = multiprocessing.Process(target = task, args = (i,i+1))\n",
    "        p.start()\n",
    "        processes.append(p)\n",
    "    \n",
    "    # Joins all the processes \n",
    "    for p in processes:\n",
    "        p.join()\n",
    "\n",
    "    results = []\n",
    "    while not results_queue.empty():\n",
    "        result = results_queue.get()\n",
    "        results.append(result)\n",
    " \n",
    "    finish_time = time.perf_counter()\n",
    " \n",
    "    #print(f\"Program finished in {finish_time-start_time} seconds\")\n",
    "    return results"
   ]
  },
  {
   "cell_type": "code",
   "execution_count": 17,
   "metadata": {},
   "outputs": [
    {
     "name": "stdout",
     "output_type": "stream",
     "text": [
      "7\n",
      "13\n",
      "17\n",
      "11\n",
      "15\n",
      "5\n",
      "1\n",
      "9\n",
      "3\n",
      "19\n"
     ]
    }
   ],
   "source": [
    "if __name__ == \"__main__\":\n",
    "    x = main()\n",
    "    "
   ]
  },
  {
   "cell_type": "code",
   "execution_count": 19,
   "metadata": {},
   "outputs": [
    {
     "data": {
      "text/plain": [
       "0"
      ]
     },
     "execution_count": 19,
     "metadata": {},
     "output_type": "execute_result"
    }
   ],
   "source": [
    "# i need to clean text and perform sentiment analysis in seperate modules\n"
   ]
  }
 ],
 "metadata": {
  "kernelspec": {
   "display_name": "nba-sentiment-plx5nsEQ-py3.9",
   "language": "python",
   "name": "python3"
  },
  "language_info": {
   "codemirror_mode": {
    "name": "ipython",
    "version": 3
   },
   "file_extension": ".py",
   "mimetype": "text/x-python",
   "name": "python",
   "nbconvert_exporter": "python",
   "pygments_lexer": "ipython3",
   "version": "3.9.16"
  },
  "orig_nbformat": 4
 },
 "nbformat": 4,
 "nbformat_minor": 2
}
