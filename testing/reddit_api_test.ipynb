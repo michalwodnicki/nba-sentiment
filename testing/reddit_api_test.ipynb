{
 "cells": [
  {
   "cell_type": "code",
   "execution_count": 3,
   "metadata": {},
   "outputs": [],
   "source": [
    "import requests\n",
    "from tqdm import tqdm\n",
    "import praw\n",
    "from praw.models import MoreComments\n",
    "import pandas as pd\n",
    "\n",
    "# Shoutout to u/Watchful1 for providing the code on getting all top level comments in a thread \n",
    "# Link to github - \"https://github.com/Watchful1/Sketchpad/blob/master/load_top_level.py\""
   ]
  },
  {
   "cell_type": "code",
   "execution_count": 12,
   "metadata": {},
   "outputs": [
    {
     "name": "stdout",
     "output_type": "stream",
     "text": [
      "14180\n"
     ]
    },
    {
     "data": {
      "text/html": [
       "<div>\n",
       "<style scoped>\n",
       "    .dataframe tbody tr th:only-of-type {\n",
       "        vertical-align: middle;\n",
       "    }\n",
       "\n",
       "    .dataframe tbody tr th {\n",
       "        vertical-align: top;\n",
       "    }\n",
       "\n",
       "    .dataframe thead th {\n",
       "        text-align: right;\n",
       "    }\n",
       "</style>\n",
       "<table border=\"1\" class=\"dataframe\">\n",
       "  <thead>\n",
       "    <tr style=\"text-align: right;\">\n",
       "      <th></th>\n",
       "      <th>id</th>\n",
       "      <th>body</th>\n",
       "      <th>score</th>\n",
       "      <th>utc</th>\n",
       "      <th>parent_id</th>\n",
       "    </tr>\n",
       "  </thead>\n",
       "  <tbody>\n",
       "    <tr>\n",
       "      <th>11695</th>\n",
       "      <td>jinuatk</td>\n",
       "      <td>Refs vs Warriors</td>\n",
       "      <td>-57</td>\n",
       "      <td>1.683091e+09</td>\n",
       "      <td>t3_1365zfw</td>\n",
       "    </tr>\n",
       "    <tr>\n",
       "      <th>11708</th>\n",
       "      <td>jio804a</td>\n",
       "      <td>Everything aside, but 29 FT on 92 shots for LA...</td>\n",
       "      <td>-56</td>\n",
       "      <td>1.683101e+09</td>\n",
       "      <td>t3_1365zfw</td>\n",
       "    </tr>\n",
       "    <tr>\n",
       "      <th>11589</th>\n",
       "      <td>jinsxxd</td>\n",
       "      <td>So many CRINGE-Y Lakers fans thinking they are...</td>\n",
       "      <td>-47</td>\n",
       "      <td>1.683090e+09</td>\n",
       "      <td>t3_1365zfw</td>\n",
       "    </tr>\n",
       "    <tr>\n",
       "      <th>11454</th>\n",
       "      <td>jinswm8</td>\n",
       "      <td>Even the Warriors get fucked by the refs Laker...</td>\n",
       "      <td>-45</td>\n",
       "      <td>1.683090e+09</td>\n",
       "      <td>t3_1365zfw</td>\n",
       "    </tr>\n",
       "    <tr>\n",
       "      <th>11591</th>\n",
       "      <td>jinrgkd</td>\n",
       "      <td>Dennis Schröder: 31 minutes, 10 FTA\\n\\nGolden ...</td>\n",
       "      <td>-40</td>\n",
       "      <td>1.683089e+09</td>\n",
       "      <td>t3_1365zfw</td>\n",
       "    </tr>\n",
       "  </tbody>\n",
       "</table>\n",
       "</div>"
      ],
      "text/plain": [
       "            id                                               body  score  \\\n",
       "11695  jinuatk                                   Refs vs Warriors    -57   \n",
       "11708  jio804a  Everything aside, but 29 FT on 92 shots for LA...    -56   \n",
       "11589  jinsxxd  So many CRINGE-Y Lakers fans thinking they are...    -47   \n",
       "11454  jinswm8  Even the Warriors get fucked by the refs Laker...    -45   \n",
       "11591  jinrgkd  Dennis Schröder: 31 minutes, 10 FTA\\n\\nGolden ...    -40   \n",
       "\n",
       "                utc   parent_id  \n",
       "11695  1.683091e+09  t3_1365zfw  \n",
       "11708  1.683101e+09  t3_1365zfw  \n",
       "11589  1.683090e+09  t3_1365zfw  \n",
       "11454  1.683090e+09  t3_1365zfw  \n",
       "11591  1.683089e+09  t3_1365zfw  "
      ]
     },
     "execution_count": 12,
     "metadata": {},
     "output_type": "execute_result"
    }
   ],
   "source": [
    "df = pd.read_csv('1365zfw.csv')\n",
    "sorted = df.sort_values('score', ascending=True)\n",
    "print(len(df))\n",
    "sorted.head()"
   ]
  },
  {
   "cell_type": "code",
   "execution_count": 4,
   "metadata": {},
   "outputs": [
    {
     "name": "stdout",
     "output_type": "stream",
     "text": [
      "None\n"
     ]
    }
   ],
   "source": [
    "reddit = praw.Reddit(\n",
    "    client_id=\"ntkKZqDx0KMcF3mo1i-SCQ\",\n",
    "    client_secret=\"-SGJkpxOuMEQ881eERB9OELIICY2jw\",\n",
    "    user_agent='nba-sentiment/1.0 (by u/moneymichal)'\n",
    ")\n",
    "\n",
    "print(reddit.user.me())"
   ]
  },
  {
   "cell_type": "code",
   "execution_count": 5,
   "metadata": {},
   "outputs": [],
   "source": [
    "submission = reddit.submission('1365zfw')"
   ]
  },
  {
   "cell_type": "code",
   "execution_count": 7,
   "metadata": {},
   "outputs": [
    {
     "data": {
      "text/plain": [
       "1683075600.0"
      ]
     },
     "execution_count": 7,
     "metadata": {},
     "output_type": "execute_result"
    }
   ],
   "source": [
    "submission.created_utc"
   ]
  },
  {
   "cell_type": "code",
   "execution_count": 4,
   "metadata": {},
   "outputs": [],
   "source": [
    "def gather_more_comments(submission):\n",
    "\ttop_level_comment_count = 0\n",
    "\tmore_comments = []\n",
    "\tfor top_level_comment in submission.comments:\n",
    "\t\tif isinstance(top_level_comment, MoreComments):\n",
    "\t\t\tmore_comments.append(top_level_comment)\n",
    "\t\telse:\n",
    "\t\t\ttop_level_comment_count += 1\n",
    "\n",
    "\tprint(f\"Comments: {top_level_comment_count}, MoreComments objects: {len(more_comments)}\")\n",
    "\treturn more_comments"
   ]
  }
 ],
 "metadata": {
  "kernelspec": {
   "display_name": "stat",
   "language": "python",
   "name": "python3"
  },
  "language_info": {
   "codemirror_mode": {
    "name": "ipython",
    "version": 3
   },
   "file_extension": ".py",
   "mimetype": "text/x-python",
   "name": "python",
   "nbconvert_exporter": "python",
   "pygments_lexer": "ipython3",
   "version": "3.9.16"
  },
  "orig_nbformat": 4
 },
 "nbformat": 4,
 "nbformat_minor": 2
}
